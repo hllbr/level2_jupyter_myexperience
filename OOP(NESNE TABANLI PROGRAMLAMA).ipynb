{
 "cells": [
  {
   "cell_type": "code",
   "execution_count": 1,
   "metadata": {},
   "outputs": [
    {
     "name": "stdout",
     "output_type": "stream",
     "text": [
      "[1, 2, 3, 4, 5, 6]\n"
     ]
    }
   ],
   "source": [
    "liste = [1,2,3,4,5] \n",
    "# Liste objesi oluşturmak\n",
    "liste.append(6) \n",
    "# Append metodu\n",
    " \n",
    "print(liste)"
   ]
  },
  {
   "cell_type": "code",
   "execution_count": 3,
   "metadata": {},
   "outputs": [
    {
     "name": "stdout",
     "output_type": "stream",
     "text": [
      "<class 'function'>\n"
     ]
    }
   ],
   "source": [
    "def toplama(a,b):\n",
    "    return a + b\n",
    "print(type(toplama)) \n",
    "# Fonksiyon objesi"
   ]
  },
  {
   "cell_type": "code",
   "execution_count": 4,
   "metadata": {},
   "outputs": [],
   "source": [
    "#Sınıflar veya Classlar objelerimizi oluştururken objelerin özelliklerini ve metodlarını tanımladığımız bir yapıdır ve biz herbir objeyi bu yapıya göre üretiriz."
   ]
  },
  {
   "cell_type": "code",
   "execution_count": 5,
   "metadata": {},
   "outputs": [],
   "source": [
    "#  Yeni bir anten veri tipi oluşturuyoruz.\n",
    "class Anten():\n",
    "    model =  \"Mega\"\n",
    "    renk = \"Black\"            \n",
    "    # Sınıfımızın özellikleri (attributes)\n",
    "    Frekans = 110\n",
    "    Periyot= 4"
   ]
  },
  {
   "cell_type": "code",
   "execution_count": 10,
   "metadata": {},
   "outputs": [
    {
     "name": "stdout",
     "output_type": "stream",
     "text": [
      "Mega\n"
     ]
    }
   ],
   "source": [
    "print(Anten.model)"
   ]
  },
  {
   "cell_type": "code",
   "execution_count": 11,
   "metadata": {},
   "outputs": [
    {
     "data": {
      "text/plain": [
       "110"
      ]
     },
     "execution_count": 11,
     "metadata": {},
     "output_type": "execute_result"
    }
   ],
   "source": [
    "Anten.Frekans"
   ]
  },
  {
   "cell_type": "code",
   "execution_count": 12,
   "metadata": {},
   "outputs": [
    {
     "name": "stdout",
     "output_type": "stream",
     "text": [
      "<__main__.Anten object at 0x0000022F9CFF6700>\n"
     ]
    }
   ],
   "source": [
    "anten1 =  Anten() # Araba veri tipinden bir \"araba1\" isminde bir obje oluşturduk.\n",
    " \n",
    "print(anten1) # Objemizin veri tipi Araba"
   ]
  },
  {
   "cell_type": "code",
   "execution_count": 13,
   "metadata": {},
   "outputs": [
    {
     "name": "stdout",
     "output_type": "stream",
     "text": [
      "['Frekans', 'Periyot', '__class__', '__delattr__', '__dict__', '__dir__', '__doc__', '__eq__', '__format__', '__ge__', '__getattribute__', '__gt__', '__hash__', '__init__', '__init_subclass__', '__le__', '__lt__', '__module__', '__ne__', '__new__', '__reduce__', '__reduce_ex__', '__repr__', '__setattr__', '__sizeof__', '__str__', '__subclasshook__', '__weakref__', 'model', 'renk']\n"
     ]
    }
   ],
   "source": [
    "print(dir(anten1))"
   ]
  },
  {
   "cell_type": "code",
   "execution_count": 18,
   "metadata": {},
   "outputs": [],
   "source": [
    "#dir fonksiyonu objemizin tüm özelliklerini ve metodlarını görüyoruz.\n",
    "#init metodu Pythonda yapıcı(constructor ) fonksiyon olarak tanımlanmaktadır. Bu metod objelerimiz oluşturulurken otomatik olarak ilk çağrılan fonksiyondur.\n",
    "class Araba():\n",
    "    \n",
    "    def __init__(self , model = \"Bilgi Yok\",renk = \"Bilgi Yok\",beygir_gücü = 75 ,silindir = 4): \n",
    "        self.model =  model \n",
    "        self.renk = renk \n",
    "        self.beygir_gücü = beygir_gücü \n",
    "        self.silindir = silindir"
   ]
  },
  {
   "cell_type": "code",
   "execution_count": 19,
   "metadata": {},
   "outputs": [],
   "source": [
    "araba1 = Araba(beygir_gücü = 85, renk = \"Siyah\")"
   ]
  },
  {
   "cell_type": "code",
   "execution_count": 20,
   "metadata": {},
   "outputs": [
    {
     "data": {
      "text/plain": [
       "'Siyah'"
      ]
     },
     "execution_count": 20,
     "metadata": {},
     "output_type": "execute_result"
    }
   ],
   "source": [
    "araba1.renk"
   ]
  },
  {
   "cell_type": "code",
   "execution_count": 21,
   "metadata": {},
   "outputs": [
    {
     "data": {
      "text/plain": [
       "'Bilgi Yok'"
      ]
     },
     "execution_count": 21,
     "metadata": {},
     "output_type": "execute_result"
    }
   ],
   "source": [
    "araba1.model"
   ]
  },
  {
   "cell_type": "code",
   "execution_count": 26,
   "metadata": {},
   "outputs": [
    {
     "name": "stdout",
     "output_type": "stream",
     "text": [
      "programcı dilleri ['Python', 'C', 'Java'] programcı deneyimleri :  ['apple', 'uber', 'azure', 'IBM']\n",
      "programcı soy ismi :  Say programcı deneyimleri :  ['ıntel', 'hp', 'dell']\n"
     ]
    }
   ],
   "source": [
    "#Sınıfların Methodları\n",
    "\n",
    "class Programer():\n",
    "    \n",
    "    def __init__(self,isim,soyisim,numara,maaş,diller,deneyim):\n",
    "        self.isim = isim\n",
    "        self.soyisim = soyisim\n",
    "        self.numara = numara    \n",
    "        self.maaş = maaş\n",
    "        self.diller = diller\n",
    "        self.deneyim = deneyim\n",
    "        # Programer objelerinin özellikleri \n",
    "        #javada bulunan constructor yapısı\n",
    "#programer objesi\n",
    "programer1 =  Programer(\"Mustafa Murat\",\"Coşkun\",12345,3000,[\"Python\",\"C\",\"Java\"],[\"apple\",\"uber\",\"azure\",\"IBM\"])\n",
    "programer2 = Programer(\"Serhat\",\"Say\",23456,3500,[\"Matlab\",\"R\",\"SmallTalk\"],[\"ıntel\",\"hp\",\"dell\"])\n",
    " \n",
    "print(\"programcı dilleri\" , programer1.diller,\"programcı deneyimleri : \",programer1.deneyim)\n",
    "print(\"programcı soy ismi : \",programer2.soyisim,\"programcı deneyimleri : \",programer2.deneyim)"
   ]
  },
  {
   "cell_type": "code",
   "execution_count": null,
   "metadata": {},
   "outputs": [],
   "source": []
  }
 ],
 "metadata": {
  "kernelspec": {
   "display_name": "Python 3",
   "language": "python",
   "name": "python3"
  },
  "language_info": {
   "codemirror_mode": {
    "name": "ipython",
    "version": 3
   },
   "file_extension": ".py",
   "mimetype": "text/x-python",
   "name": "python",
   "nbconvert_exporter": "python",
   "pygments_lexer": "ipython3",
   "version": "3.8.3"
  }
 },
 "nbformat": 4,
 "nbformat_minor": 4
}
