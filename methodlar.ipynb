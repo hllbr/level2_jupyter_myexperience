{
 "cells": [
  {
   "cell_type": "code",
   "execution_count": 1,
   "metadata": {},
   "outputs": [],
   "source": [
    "#Metodlar bir obje üzerinde belli işlemleri gerçekleştiren objelere özgü fonksiyonlardır"
   ]
  },
  {
   "cell_type": "code",
   "execution_count": 2,
   "metadata": {},
   "outputs": [
    {
     "name": "stdout",
     "output_type": "stream",
     "text": [
      "[1, 'hllbr', 2, 3, 4, 5, 6]\n"
     ]
    }
   ],
   "source": [
    "liste = [1,2,3,4,5,6]\n",
    "liste.insert(1,\"hllbr\")\n",
    "print(liste)"
   ]
  },
  {
   "cell_type": "code",
   "execution_count": 3,
   "metadata": {},
   "outputs": [],
   "source": [
    "#1bumaralı inddexe hllbr eklendi"
   ]
  },
  {
   "cell_type": "code",
   "execution_count": 4,
   "metadata": {},
   "outputs": [
    {
     "data": {
      "text/plain": [
       "6"
      ]
     },
     "execution_count": 4,
     "metadata": {},
     "output_type": "execute_result"
    }
   ],
   "source": [
    "liste.pop()"
   ]
  },
  {
   "cell_type": "code",
   "execution_count": 5,
   "metadata": {},
   "outputs": [],
   "source": [
    "#listenin sonunda bulunan 6 elemanı yazdırıldı ve listeden çıakrıldı"
   ]
  },
  {
   "cell_type": "code",
   "execution_count": 6,
   "metadata": {},
   "outputs": [
    {
     "data": {
      "text/plain": [
       "[1, 'hllbr', 2, 3, 4, 5]"
      ]
     },
     "execution_count": 6,
     "metadata": {},
     "output_type": "execute_result"
    }
   ],
   "source": [
    "liste"
   ]
  },
  {
   "cell_type": "code",
   "execution_count": 7,
   "metadata": {},
   "outputs": [],
   "source": [
    "#burada pop ve insert bizim methodlarımızdır."
   ]
  },
  {
   "cell_type": "code",
   "execution_count": 8,
   "metadata": {},
   "outputs": [],
   "source": [
    "#Fonksiyonlar programlamada belli işlevleri olan ve tekrar tekrar kullandığımız yapılardır."
   ]
  },
  {
   "cell_type": "code",
   "execution_count": 9,
   "metadata": {},
   "outputs": [
    {
     "ename": "SyntaxError",
     "evalue": "invalid syntax (<ipython-input-9-f08d63b09d42>, line 1)",
     "output_type": "error",
     "traceback": [
      "\u001b[1;36m  File \u001b[1;32m\"<ipython-input-9-f08d63b09d42>\"\u001b[1;36m, line \u001b[1;32m1\u001b[0m\n\u001b[1;33m    def fonksiyon_adı(parametre1,parametre2..... (opsiyonel)):\u001b[0m\n\u001b[1;37m                                           ^\u001b[0m\n\u001b[1;31mSyntaxError\u001b[0m\u001b[1;31m:\u001b[0m invalid syntax\n"
     ]
    }
   ],
   "source": []
  },
  {
   "cell_type": "code",
   "execution_count": 11,
   "metadata": {},
   "outputs": [
    {
     "name": "stdout",
     "output_type": "stream",
     "text": [
      "Selam arkadaşlar...\n",
      "Nasılsınız?\n"
     ]
    }
   ],
   "source": [
    "def selamla(): \n",
    "    print(\"Selam arkadaşlar...\")\n",
    "    print(\"Nasılsınız?\")\n",
    "selamla()"
   ]
  },
  {
   "cell_type": "code",
   "execution_count": 14,
   "metadata": {},
   "outputs": [
    {
     "name": "stdout",
     "output_type": "stream",
     "text": [
      "merhaba volkan abi\n",
      "nasılsın umarım iyisindir.\n"
     ]
    }
   ],
   "source": [
    "#Fonksiyonlarda parametreler\n",
    "def selamla(isim):\n",
    "    #isim bizim parametremiz\n",
    "    print(\"merhaba\",isim)\n",
    "    print(\"nasılsın umarım iyisindir.\")\n",
    "selamla(\"volkan abi\")\n"
   ]
  },
  {
   "cell_type": "code",
   "execution_count": 15,
   "metadata": {},
   "outputs": [
    {
     "name": "stdout",
     "output_type": "stream",
     "text": [
      "toplama işleminizin sonucu 20\n"
     ]
    }
   ],
   "source": [
    "def toplama(a,b,c):\n",
    "    #a,b,c bizim parametrelerimiz\n",
    "    print(\"toplama işleminizin sonucu\",(a+b+c))\n",
    "toplama(6,7,7)"
   ]
  },
  {
   "cell_type": "code",
   "execution_count": 16,
   "metadata": {},
   "outputs": [],
   "source": [
    "def faktorieAlma(sayı):\n",
    "    #sayı bizim parametremizdir.\n",
    "    faktoriyel = 1\n",
    "    if sayı == 0 or sayı == 1:\n",
    "        print(\"Faktoriyel Sonucunuz\",faktoriyel)\n",
    "    else:\n",
    "        while(sayı>=1):\n",
    "            faktoriyel *=sayı\n",
    "            sayı-=1\n",
    "            print(\"faktoriyel sonucunuz:\",faktoriyel)"
   ]
  },
  {
   "cell_type": "code",
   "execution_count": 17,
   "metadata": {},
   "outputs": [
    {
     "name": "stdout",
     "output_type": "stream",
     "text": [
      "faktoriyel sonucunuz: 55\n",
      "faktoriyel sonucunuz: 2970\n",
      "faktoriyel sonucunuz: 157410\n",
      "faktoriyel sonucunuz: 8185320\n",
      "faktoriyel sonucunuz: 417451320\n",
      "faktoriyel sonucunuz: 20872566000\n",
      "faktoriyel sonucunuz: 1022755734000\n",
      "faktoriyel sonucunuz: 49092275232000\n",
      "faktoriyel sonucunuz: 2307336935904000\n",
      "faktoriyel sonucunuz: 106137499051584000\n",
      "faktoriyel sonucunuz: 4776187457321280000\n",
      "faktoriyel sonucunuz: 210152248122136320000\n",
      "faktoriyel sonucunuz: 9036546669251861760000\n",
      "faktoriyel sonucunuz: 379534960108578193920000\n",
      "faktoriyel sonucunuz: 15560933364451705950720000\n",
      "faktoriyel sonucunuz: 622437334578068238028800000\n",
      "faktoriyel sonucunuz: 24275056048544661283123200000\n",
      "faktoriyel sonucunuz: 922452129844697128758681600000\n",
      "faktoriyel sonucunuz: 34130728804253793764071219200000\n",
      "faktoriyel sonucunuz: 1228706236953136575506563891200000\n",
      "faktoriyel sonucunuz: 43004718293359780142729736192000000\n",
      "faktoriyel sonucunuz: 1462160421974232524852811030528000000\n",
      "faktoriyel sonucunuz: 48251293925149673320142764007424000000\n",
      "faktoriyel sonucunuz: 1544041405604789546244568448237568000000\n",
      "faktoriyel sonucunuz: 47865283573748475933581621895364608000000\n",
      "faktoriyel sonucunuz: 1435958507212454278007448656860938240000000\n",
      "faktoriyel sonucunuz: 41642796709161174062216011048967208960000000\n",
      "faktoriyel sonucunuz: 1165998307856512873742048309371081850880000000\n",
      "faktoriyel sonucunuz: 31481954312125847591035304353019209973760000000\n",
      "faktoriyel sonucunuz: 818530812115272037366917913178499459317760000000\n",
      "faktoriyel sonucunuz: 20463270302881800934172947829462486482944000000000\n",
      "faktoriyel sonucunuz: 491118487269163222420150747907099675590656000000000\n",
      "faktoriyel sonucunuz: 11295725207190754115663467201863292538585088000000000\n",
      "faktoriyel sonucunuz: 248505954558196590544596278440992435848871936000000000\n",
      "faktoriyel sonucunuz: 5218625045722128401436521847260841152826310656000000000\n",
      "faktoriyel sonucunuz: 104372500914442568028730436945216823056526213120000000000\n",
      "faktoriyel sonucunuz: 1983077517374408792545878301959119638073998049280000000000\n",
      "faktoriyel sonucunuz: 35695395312739358265825809435264153485331964887040000000000\n",
      "faktoriyel sonucunuz: 606821720316569090519038760399490609250643403079680000000000\n",
      "faktoriyel sonucunuz: 9709147525065105448304620166391849748010294449274880000000000\n",
      "faktoriyel sonucunuz: 145637212875976581724569302495877746220154416739123200000000000\n",
      "faktoriyel sonucunuz: 2038920980263672144143970234942288447082161834347724800000000000\n",
      "faktoriyel sonucunuz: 26505972743427737873871613054249749812068103846520422400000000000\n",
      "faktoriyel sonucunuz: 318071672921132854486459356650996997744817246158245068800000000000\n",
      "faktoriyel sonucunuz: 3498788402132461399351052923160966975192989707740695756800000000000\n",
      "faktoriyel sonucunuz: 34987884021324613993510529231609669751929897077406957568000000000000\n",
      "faktoriyel sonucunuz: 314890956191921525941594763084487027767369073696662618112000000000000\n",
      "faktoriyel sonucunuz: 2519127649535372207532758104675896222138952589573300944896000000000000\n",
      "faktoriyel sonucunuz: 17633893546747605452729306732731273554972668127013106614272000000000000\n",
      "faktoriyel sonucunuz: 105803361280485632716375840396387641329836008762078639685632000000000000\n",
      "faktoriyel sonucunuz: 529016806402428163581879201981938206649180043810393198428160000000000000\n",
      "faktoriyel sonucunuz: 2116067225609712654327516807927752826596720175241572793712640000000000000\n",
      "faktoriyel sonucunuz: 6348201676829137962982550423783258479790160525724718381137920000000000000\n",
      "faktoriyel sonucunuz: 12696403353658275925965100847566516959580321051449436762275840000000000000\n",
      "faktoriyel sonucunuz: 12696403353658275925965100847566516959580321051449436762275840000000000000\n"
     ]
    }
   ],
   "source": [
    "faktorieAlma(55)"
   ]
  },
  {
   "cell_type": "code",
   "execution_count": 18,
   "metadata": {},
   "outputs": [],
   "source": [
    "#return ifadesi fonksiyonun işlemi bittikten sonra çağrıldığı yere değer döndürmesi anlamı taşır. Fonksiyonlarmız için gerekli bir yapıdır."
   ]
  },
  {
   "cell_type": "code",
   "execution_count": 19,
   "metadata": {},
   "outputs": [],
   "source": [
    "def toplama(a,b,c):\n",
    "    return a+b+c \n",
    "#return burada print işlemini gerçekleştirmekte\n",
    "def ikiyle_çarp(a):\n",
    "    return a*2"
   ]
  },
  {
   "cell_type": "code",
   "execution_count": 20,
   "metadata": {},
   "outputs": [
    {
     "data": {
      "text/plain": [
       "61"
      ]
     },
     "execution_count": 20,
     "metadata": {},
     "output_type": "execute_result"
    }
   ],
   "source": [
    "toplama(1,2,58)"
   ]
  },
  {
   "cell_type": "code",
   "execution_count": 21,
   "metadata": {},
   "outputs": [
    {
     "data": {
      "text/plain": [
       "116"
      ]
     },
     "execution_count": 21,
     "metadata": {},
     "output_type": "execute_result"
    }
   ],
   "source": [
    "ikiyle_çarp(58)"
   ]
  },
  {
   "cell_type": "code",
   "execution_count": 22,
   "metadata": {},
   "outputs": [],
   "source": [
    "#global ve yerel değişkenler\n",
    "#global değişkenler tüm fonksiyonlar için aynı değeri verir \n",
    "#yerel değişkenler ise bir fonksiyon için tanımlanmış olduğunu varsayarsak başka bir fonksiyon için bu değer yok hükmünde olabilir."
   ]
  },
  {
   "cell_type": "code",
   "execution_count": 24,
   "metadata": {},
   "outputs": [
    {
     "name": "stdout",
     "output_type": "stream",
     "text": [
      "58\n"
     ]
    }
   ],
   "source": [
    "\n",
    "def fonksiyon():\n",
    "    a = 58 \n",
    "    print(a)\n",
    "    # Yerel isim alanında bir değişken\n",
    "# a değişkeni bu alanda yok hükmündedir\n",
    "fonksiyon()"
   ]
  },
  {
   "cell_type": "code",
   "execution_count": 25,
   "metadata": {},
   "outputs": [],
   "source": [
    "# lambda ifadelerini(expression)\n",
    "#fonksiyonları oluşturmak için Pythonda bulunan pratik bir yöntemdir"
   ]
  },
  {
   "cell_type": "code",
   "execution_count": 28,
   "metadata": {},
   "outputs": [
    {
     "name": "stdout",
     "output_type": "stream",
     "text": [
      "[493.0, 501.5, 510.0, 518.5]\n"
     ]
    }
   ],
   "source": [
    "liste1 = [58,59,60,61] \n",
    "liste2 = list()\n",
    "for i in liste1: \n",
    "    liste2.append(i*8.5)\n",
    "print(liste2)\n",
    "# Bu klasik liste oluşturma yöntemi"
   ]
  },
  {
   "cell_type": "code",
   "execution_count": 30,
   "metadata": {},
   "outputs": [
    {
     "name": "stdout",
     "output_type": "stream",
     "text": [
      "187\n"
     ]
    }
   ],
   "source": [
    "topla = lambda x,y,z : x + y + z\n",
    " \n",
    "print(topla(58,44,85))"
   ]
  },
  {
   "cell_type": "code",
   "execution_count": 31,
   "metadata": {},
   "outputs": [
    {
     "name": "stdout",
     "output_type": "stream",
     "text": [
      "remargorp a si rbllH\n"
     ]
    }
   ],
   "source": [
    "ters =  lambda s : s[::-1]\n",
    " \n",
    "print(ters(\"Hllbr is a programer\"))"
   ]
  },
  {
   "cell_type": "code",
   "execution_count": null,
   "metadata": {},
   "outputs": [],
   "source": []
  }
 ],
 "metadata": {
  "kernelspec": {
   "display_name": "Python 3",
   "language": "python",
   "name": "python3"
  },
  "language_info": {
   "codemirror_mode": {
    "name": "ipython",
    "version": 3
   },
   "file_extension": ".py",
   "mimetype": "text/x-python",
   "name": "python",
   "nbconvert_exporter": "python",
   "pygments_lexer": "ipython3",
   "version": "3.8.3"
  }
 },
 "nbformat": 4,
 "nbformat_minor": 4
}
